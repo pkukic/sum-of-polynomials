{
 "cells": [
  {
   "cell_type": "markdown",
   "id": "de92dea8-6a8f-47ff-810f-69b81dc938a3",
   "metadata": {},
   "source": [
    "Given a polynome $p(x)$, `poly_to_poly` will return $q(n) = \\sum_{k=0}^{n-1} p(k)$"
   ]
  },
  {
   "cell_type": "code",
   "execution_count": 10,
   "id": "b5eb86fc-776d-43e5-bf69-5b13567a77ad",
   "metadata": {},
   "outputs": [],
   "source": [
    "import numpy as np\n",
    "from fractions import Fraction"
   ]
  },
  {
   "cell_type": "code",
   "execution_count": 19,
   "id": "dd9e6fce-be35-452d-8257-cb8b61cb1998",
   "metadata": {},
   "outputs": [],
   "source": [
    "def stirling(N):\n",
    "    stirling = np.zeros((N, N))\n",
    "    stirling[:, 0] = 0\n",
    "    stirling[0, :] = 0\n",
    "    stirling[0, 0] = 1\n",
    "    for n in range(1, N):\n",
    "        for k in range(1, N):\n",
    "            stirling[n, k] = stirling[n - 1, k - 1] - (n - 1) * stirling[n - 1, k]\n",
    "    return stirling.T\n",
    "\n",
    "\n",
    "def inverse_stirling(N):\n",
    "    return np.linalg.inv(stirling(N))\n",
    "\n",
    "def p_to_r(p_arr):\n",
    "    p = np.asarray([p_arr]).transpose()\n",
    "    p = np.pad(p, ((0, 1), (0,0)), 'constant')\n",
    "    t = inverse_stirling(p.size) @ p\n",
    "    c = 1 / (np.arange(p.size).reshape(1, p.size).transpose() + 1)\n",
    "    p_s = np.roll(t*c, 1)\n",
    "    r = stirling(p_s.size) @ p_s\n",
    "    r = r.flatten()\n",
    "    return r\n",
    "\n",
    "def r_to_str(r):\n",
    "    return ' + ' .join([f'({str(Fraction.from_float(a).limit_denominator(100))})n^{n}' \n",
    "                        for n, a in reversed(list(enumerate(r.tolist())))])"
   ]
  },
  {
   "cell_type": "code",
   "execution_count": 20,
   "id": "9095b5b6-884b-40ff-8da2-cb297a9a3b81",
   "metadata": {},
   "outputs": [],
   "source": [
    "def s_to_p(s):\n",
    "    print(s)\n",
    "    l = []\n",
    "    for si in s.split(' + '):\n",
    "        [a, b] = si[1:].split(')x^')\n",
    "        l.append((float(a), int(b)))\n",
    "    maxdeg = max(l, key = lambda t: t[1])[1]\n",
    "    p = [0] * (maxdeg + 1)\n",
    "    p = np.asarray(p, dtype=np.float64)\n",
    "    for it in l:\n",
    "        p[it[1]] = it[0]\n",
    "    return p"
   ]
  },
  {
   "cell_type": "code",
   "execution_count": 21,
   "id": "744ff314-642d-42f1-9826-41a35640f187",
   "metadata": {},
   "outputs": [],
   "source": [
    "def poly_to_poly(s):\n",
    "    p = s_to_p(s)\n",
    "    return r_to_str(p_to_r(p))"
   ]
  },
  {
   "cell_type": "code",
   "execution_count": 22,
   "id": "eff06e24-97e9-484e-90ec-82baee9be2eb",
   "metadata": {},
   "outputs": [
    {
     "name": "stdout",
     "output_type": "stream",
     "text": [
      "(3)x^2 + (-1)x^1 + (5)x^0\n"
     ]
    },
    {
     "data": {
      "text/plain": [
       "'(1)n^3 + (-2)n^2 + (6)n^1 + (0)n^0'"
      ]
     },
     "execution_count": 22,
     "metadata": {},
     "output_type": "execute_result"
    }
   ],
   "source": [
    "poly_to_poly('(3)x^2 + (-1)x^1 + (5)x^0')"
   ]
  },
  {
   "cell_type": "code",
   "execution_count": 23,
   "id": "3104d19c-613b-45bf-8c7c-adea19c074c4",
   "metadata": {},
   "outputs": [
    {
     "name": "stdout",
     "output_type": "stream",
     "text": [
      "(5)x^3 + (4)x^2 + (0.5)x^1 + (0)x^0\n"
     ]
    },
    {
     "data": {
      "text/plain": [
       "'(5/4)n^4 + (-7/6)n^3 + (-1/2)n^2 + (5/12)n^1 + (0)n^0'"
      ]
     },
     "execution_count": 23,
     "metadata": {},
     "output_type": "execute_result"
    }
   ],
   "source": [
    "poly_to_poly('(5)x^3 + (4)x^2 + (0.5)x^1 + (0)x^0')"
   ]
  },
  {
   "cell_type": "code",
   "execution_count": 24,
   "id": "5a6a92c9-7bd2-4027-841d-75f3f486cc56",
   "metadata": {},
   "outputs": [
    {
     "name": "stdout",
     "output_type": "stream",
     "text": [
      "(1.2)x^3 + (0.4)x^2 + (2.5)x^1 + (0)x^0\n"
     ]
    },
    {
     "data": {
      "text/plain": [
       "'(3/10)n^4 + (-7/15)n^3 + (27/20)n^2 + (-71/60)n^1 + (0)n^0'"
      ]
     },
     "execution_count": 24,
     "metadata": {},
     "output_type": "execute_result"
    }
   ],
   "source": [
    "poly_to_poly('(1.2)x^3 + (0.4)x^2 + (2.5)x^1 + (0)x^0')"
   ]
  },
  {
   "cell_type": "code",
   "execution_count": 25,
   "id": "b4994ea2-b4a5-4394-b855-b2246f8005ed",
   "metadata": {},
   "outputs": [
    {
     "name": "stdout",
     "output_type": "stream",
     "text": [
      "(2)x^5 + (1)x^4 + (1)x^2 + (3)x^0\n"
     ]
    },
    {
     "data": {
      "text/plain": [
       "'(1/3)n^6 + (-4/5)n^5 + (1/3)n^4 + (2/3)n^3 + (-2/3)n^2 + (47/15)n^1 + (0)n^0'"
      ]
     },
     "execution_count": 25,
     "metadata": {},
     "output_type": "execute_result"
    }
   ],
   "source": [
    "poly_to_poly('(2)x^5 + (1)x^4 + (1)x^2 + (3)x^0')"
   ]
  },
  {
   "cell_type": "code",
   "execution_count": 26,
   "id": "0192d54e-62a6-4ef1-8af9-95c3f0c7f11d",
   "metadata": {},
   "outputs": [
    {
     "name": "stdout",
     "output_type": "stream",
     "text": [
      "(4)x^7 + (5)x^3 + (-2)x^2 + (5)x^0\n"
     ]
    },
    {
     "data": {
      "text/plain": [
       "'(1/2)n^8 + (-2)n^7 + (7/3)n^6 + (0)n^5 + (1/12)n^4 + (-19/6)n^3 + (31/12)n^2 + (14/3)n^1 + (0)n^0'"
      ]
     },
     "execution_count": 26,
     "metadata": {},
     "output_type": "execute_result"
    }
   ],
   "source": [
    "poly_to_poly('(4)x^7 + (5)x^3 + (-2)x^2 + (5)x^0')"
   ]
  },
  {
   "cell_type": "code",
   "execution_count": null,
   "id": "86b33fe8-a786-4b44-a745-0e156782e02f",
   "metadata": {},
   "outputs": [],
   "source": []
  }
 ],
 "metadata": {
  "kernelspec": {
   "display_name": "Python 3 (ipykernel)",
   "language": "python",
   "name": "python3"
  },
  "language_info": {
   "codemirror_mode": {
    "name": "ipython",
    "version": 3
   },
   "file_extension": ".py",
   "mimetype": "text/x-python",
   "name": "python",
   "nbconvert_exporter": "python",
   "pygments_lexer": "ipython3",
   "version": "3.8.10"
  }
 },
 "nbformat": 4,
 "nbformat_minor": 5
}
